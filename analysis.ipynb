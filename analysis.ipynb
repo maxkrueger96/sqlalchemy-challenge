{
    "cells": [
        {
            "cell_type": "code",
            "execution_count": 2,
            "source": [
                "%matplotlib inline\n",
                "from matplotlib import style\n",
                "style.use('fivethirtyeight')\n",
                "import matplotlib.pyplot as plt"
            ],
            "outputs": [],
            "metadata": {}
        },
        {
            "cell_type": "code",
            "execution_count": 3,
            "source": [
                "import numpy as np\n",
                "import pandas as pd\n",
                "import datetime as dt"
            ],
            "outputs": [],
            "metadata": {}
        },
        {
            "cell_type": "markdown",
            "source": [
                "# Reflect Tables into SQLAlchemy ORM"
            ],
            "metadata": {}
        },
        {
            "cell_type": "code",
            "execution_count": 4,
            "source": [
                "# Python SQL toolkit and Object Relational Mapper\n",
                "import sqlalchemy\n",
                "from sqlalchemy.ext.automap import automap_base\n",
                "from sqlalchemy.orm import Session\n",
                "from sqlalchemy import create_engine, func"
            ],
            "outputs": [],
            "metadata": {}
        },
        {
            "cell_type": "code",
            "execution_count": 11,
            "source": [
                "# create engine to hawaii.sqlite\n",
                "engine = create_engine(\"sqlite:///Resources/hawaii.sqlite\")"
            ],
            "outputs": [],
            "metadata": {}
        },
        {
            "cell_type": "code",
            "execution_count": null,
            "source": [
                "# reflect an existing database into a new model\n",
                "\n",
                "# reflect the tables\n"
            ],
            "outputs": [],
            "metadata": {}
        },
        {
            "cell_type": "code",
            "execution_count": null,
            "source": [
                "# View all of the classes that automap found\n"
            ],
            "outputs": [],
            "metadata": {}
        },
        {
            "cell_type": "code",
            "execution_count": null,
            "source": [
                "# Save references to each table\n"
            ],
            "outputs": [],
            "metadata": {}
        },
        {
            "cell_type": "code",
            "execution_count": null,
            "source": [
                "# Create our session (link) from Python to the DB\n"
            ],
            "outputs": [],
            "metadata": {}
        },
        {
            "cell_type": "markdown",
            "source": [
                "# Exploratory Precipitation Analysis"
            ],
            "metadata": {}
        },
        {
            "cell_type": "code",
            "execution_count": null,
            "source": [
                "# Find the most recent date in the data set."
            ],
            "outputs": [],
            "metadata": {}
        },
        {
            "cell_type": "code",
            "execution_count": null,
            "source": [
                "# Design a query to retrieve the last 12 months of precipitation data and plot the results. \n",
                "# Starting from the most recent data point in the database. \n",
                "\n",
                "# Calculate the date one year from the last date in data set.\n",
                "\n",
                "\n",
                "# Perform a query to retrieve the data and precipitation scores\n",
                "\n",
                "\n",
                "# Save the query results as a Pandas DataFrame and set the index to the date column\n",
                "\n",
                "\n",
                "# Sort the dataframe by date\n",
                "\n",
                "\n",
                "# Use Pandas Plotting with Matplotlib to plot the data\n",
                "\n",
                "\n"
            ],
            "outputs": [],
            "metadata": {}
        },
        {
            "cell_type": "code",
            "execution_count": null,
            "source": [
                "# Use Pandas to calcualte the summary statistics for the precipitation data\n"
            ],
            "outputs": [],
            "metadata": {}
        },
        {
            "cell_type": "markdown",
            "source": [
                "# Exploratory Station Analysis"
            ],
            "metadata": {}
        },
        {
            "cell_type": "code",
            "execution_count": null,
            "source": [
                "# Design a query to calculate the total number stations in the dataset\n"
            ],
            "outputs": [],
            "metadata": {}
        },
        {
            "cell_type": "code",
            "execution_count": null,
            "source": [
                "# Design a query to find the most active stations (i.e. what stations have the most rows?)\n",
                "# List the stations and the counts in descending order.\n"
            ],
            "outputs": [],
            "metadata": {}
        },
        {
            "cell_type": "code",
            "execution_count": null,
            "source": [
                "# Using the most active station id from the previous query, calculate the lowest, highest, and average temperature.\n"
            ],
            "outputs": [],
            "metadata": {}
        },
        {
            "cell_type": "code",
            "execution_count": null,
            "source": [
                "# Using the most active station id\n",
                "# Query the last 12 months of temperature observation data for this station and plot the results as a histogram\n"
            ],
            "outputs": [],
            "metadata": {}
        },
        {
            "cell_type": "markdown",
            "source": [
                "# Close Session"
            ],
            "metadata": {}
        },
        {
            "cell_type": "code",
            "execution_count": 7,
            "source": [
                "# # Close Session\n",
                "session.close()"
            ],
            "outputs": [
                {
                    "output_type": "error",
                    "ename": "TypeError",
                    "evalue": "close() missing 1 required positional argument: 'self'",
                    "traceback": [
                        "\u001b[0;31m---------------------------------------------------------------------------\u001b[0m",
                        "\u001b[0;31mTypeError\u001b[0m                                 Traceback (most recent call last)",
                        "\u001b[0;32m<ipython-input-7-23c32cbb7a7d>\u001b[0m in \u001b[0;36m<module>\u001b[0;34m\u001b[0m\n\u001b[1;32m      1\u001b[0m \u001b[0;31m# # Close Session\u001b[0m\u001b[0;34m\u001b[0m\u001b[0;34m\u001b[0m\u001b[0;34m\u001b[0m\u001b[0m\n\u001b[0;32m----> 2\u001b[0;31m \u001b[0mSession\u001b[0m\u001b[0;34m.\u001b[0m\u001b[0mclose\u001b[0m\u001b[0;34m(\u001b[0m\u001b[0;34m)\u001b[0m\u001b[0;34m\u001b[0m\u001b[0;34m\u001b[0m\u001b[0m\n\u001b[0m",
                        "\u001b[0;31mTypeError\u001b[0m: close() missing 1 required positional argument: 'self'"
                    ]
                }
            ],
            "metadata": {}
        }
    ],
    "metadata": {
        "orig_nbformat": 4,
        "language_info": {
            "name": "python",
            "version": "3.8.8",
            "mimetype": "text/x-python",
            "codemirror_mode": {
                "name": "ipython",
                "version": 3
            },
            "pygments_lexer": "ipython3",
            "nbconvert_exporter": "python",
            "file_extension": ".py"
        },
        "kernelspec": {
            "name": "python3",
            "display_name": "Python 3.8.8 64-bit ('base': conda)"
        },
        "interpreter": {
            "hash": "3056ff0f1845929a8989f1bded2e103b0e50e44d85bf2567aa5138af1ce355cd"
        }
    },
    "nbformat": 4,
    "nbformat_minor": 2
}